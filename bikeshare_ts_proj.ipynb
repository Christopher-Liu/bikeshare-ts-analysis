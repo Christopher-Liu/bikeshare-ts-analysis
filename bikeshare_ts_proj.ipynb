{
 "nbformat": 4,
 "nbformat_minor": 2,
 "metadata": {
  "language_info": {
   "name": "python",
   "codemirror_mode": {
    "name": "ipython",
    "version": 3
   }
  },
  "orig_nbformat": 2,
  "file_extension": ".py",
  "mimetype": "text/x-python",
  "name": "python",
  "npconvert_exporter": "python",
  "pygments_lexer": "ipython3",
  "version": 3
 },
 "cells": [
  {
   "cell_type": "code",
   "execution_count": null,
   "metadata": {},
   "outputs": [],
   "source": []
  },
  {
   "cell_type": "code",
   "execution_count": null,
   "metadata": {},
   "outputs": [],
   "source": [
    "import numpy as np\n",
    "import pandas as pd\n",
    "import matplotlib.pyplot as plt\n",
    "from statsmodels.tsa.api import ExponentialSmoothing"
   ]
  },
  {
   "cell_type": "code",
   "execution_count": null,
   "metadata": {},
   "outputs": [],
   "source": []
  },
  {
   "cell_type": "code",
   "execution_count": null,
   "metadata": {},
   "outputs": [],
   "source": []
  },
  {
   "cell_type": "code",
   "execution_count": null,
   "metadata": {},
   "outputs": [],
   "source": [
    "bike = pd.read_csv('./data/rides_monthly_aggregate.csv', usecols = [1])\n",
    "bike.set_index(pd.period_range('1/1/2013', freq='M', periods=84), inplace = True)\n",
    "\n",
    "bike.head()"
   ]
  },
  {
   "cell_type": "code",
   "execution_count": null,
   "metadata": {},
   "outputs": [],
   "source": []
  },
  {
   "cell_type": "code",
   "execution_count": null,
   "metadata": {},
   "outputs": [],
   "source": [
    "bike.plot(figsize = (10,6))"
   ]
  },
  {
   "cell_type": "code",
   "execution_count": null,
   "metadata": {},
   "outputs": [],
   "source": []
  },
  {
   "cell_type": "code",
   "execution_count": null,
   "metadata": {},
   "outputs": [],
   "source": [
    "fit_hw = ExponentialSmoothing(bike, seasonal_periods = 12, trend = 'add', seasonal = 'add').fit()"
   ]
  },
  {
   "cell_type": "code",
   "execution_count": null,
   "metadata": {},
   "outputs": [],
   "source": []
  },
  {
   "cell_type": "code",
   "execution_count": null,
   "metadata": {},
   "outputs": [],
   "source": [
    "bike_plot = bike.plot(figsize = (10,6), title = \"Holt-Winters' Method Bike Share Fit\")\n",
    "bike_plot.set_ylabel(\"Number of Bike rentals\")\n",
    "bike_plot.set_xlabel(\"Year\")\n",
    "fit_hw.fittedvalues.plot(ax = bike_plot, style = '--', color = 'DarkRed')\n",
    "bike_plot.legend(['Bike Rentals', 'H-W Model Fit'])"
   ]
  },
  {
   "cell_type": "code",
   "execution_count": null,
   "metadata": {},
   "outputs": [],
   "source": []
  },
  {
   "cell_type": "code",
   "execution_count": null,
   "metadata": {},
   "outputs": [],
   "source": [
    "states_decomp = pd.DataFrame(np.c_[fit_hw.level, fit_hw.slope, fit_hw.season], columns=['level','slope','seasonal'], index=bike.index)\n",
    "\n",
    "fig, [ax1, ax2, ax3] = plt.subplots(3, 1, figsize=(10,6))\n",
    "states_decomp[['level']].plot(ax = ax1, title = \"Level\")\n",
    "states_decomp[['slope']].plot(ax = ax2, title = \"Trend/Slope\")\n",
    "states_decomp[['seasonal']].plot(ax = ax3, title = \"Seasonality\")"
   ]
  },
  {
   "cell_type": "code",
   "execution_count": null,
   "metadata": {},
   "outputs": [],
   "source": []
  },
  {
   "cell_type": "code",
   "execution_count": null,
   "metadata": {},
   "outputs": [],
   "source": []
  }
 ]
}